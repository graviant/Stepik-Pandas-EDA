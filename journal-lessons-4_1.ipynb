{
 "cells": [
  {
   "metadata": {
    "ExecuteTime": {
     "end_time": "2025-09-21T12:32:15.068713Z",
     "start_time": "2025-09-21T12:32:15.063671Z"
    }
   },
   "cell_type": "code",
   "source": [
    "# pandas. Основа работы с данными в pandas - это ТАБЛИЧНОЕ представление.\n",
    "# series - одномерный массив - строка.\n",
    "# data frame состоит из series - это уже таблица.\n",
    "# 1d - одномерный массив (d - dimension - измерение)\n",
    "import pandas as pd"
   ],
   "id": "9acef8fffb87c30f",
   "outputs": [],
   "execution_count": 11
  },
  {
   "metadata": {
    "ExecuteTime": {
     "end_time": "2025-09-21T12:32:15.099136Z",
     "start_time": "2025-09-21T12:32:15.094563Z"
    }
   },
   "cell_type": "code",
   "source": [
    "obj1 = pd.Series([1,2,3,4], index=['a','b','c','d'], dtype='int16') # уменьшили размер памяти, занимаемой данной функцией\n",
    "\n",
    "print(obj1)\n",
    "\n",
    "obj1['b'] = 100 # задать по ключу новое значение\n",
    "\n",
    "print(obj1)\n",
    "\n",
    "print(obj1.nbytes) # сколько занимает памяти"
   ],
   "id": "7bceb00b6ef95de",
   "outputs": [
    {
     "name": "stdout",
     "output_type": "stream",
     "text": [
      "a    1\n",
      "b    2\n",
      "c    3\n",
      "d    4\n",
      "dtype: int16\n",
      "a      1\n",
      "b    100\n",
      "c      3\n",
      "d      4\n",
      "dtype: int16\n",
      "8\n"
     ]
    }
   ],
   "execution_count": 12
  },
  {
   "metadata": {
    "ExecuteTime": {
     "end_time": "2025-09-21T12:32:15.107861Z",
     "start_time": "2025-09-21T12:32:15.104609Z"
    }
   },
   "cell_type": "code",
   "source": "",
   "id": "25c82c88d4b729e2",
   "outputs": [],
   "execution_count": null
  }
 ],
 "metadata": {
  "kernelspec": {
   "name": "python3",
   "language": "python",
   "display_name": "Python 3 (ipykernel)"
  }
 },
 "nbformat": 5,
 "nbformat_minor": 9
}
